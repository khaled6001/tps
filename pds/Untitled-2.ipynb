{
 "cells": [
  {
   "cell_type": "code",
   "execution_count": 60,
   "metadata": {},
   "outputs": [],
   "source": [
    "import numpy as np\n",
    "import pandas as pd"
   ]
  },
  {
   "cell_type": "code",
   "execution_count": 61,
   "metadata": {},
   "outputs": [
    {
     "name": "stdout",
     "output_type": "stream",
     "text": [
      "          dep_1  dep_2  dep_3  dep_4\n",
      "Iron      45200  65190  10000  33500\n",
      "Copper    16000  11500   8550  73200\n",
      "Aluminum  13050  15000  22050   8030\n"
     ]
    }
   ],
   "source": [
    "header =[\"dep_1\", \"dep_2\", \"dep_3\", \"dep_4\"]\n",
    "materiel = [\"Iron\", \"Copper\", \"Aluminum\", ]\n",
    "value = [[45200, 65190, 10000,33500],\n",
    "         [16000, 11500, 8550, 73200],\n",
    "         [13050, 15000, 22050, 8030]]\n",
    "data = pd.DataFrame(value, columns=header, index= materiel)\n",
    "print (data)"
   ]
  },
  {
   "cell_type": "markdown",
   "metadata": {},
   "source": [
    "header =[\"dep_1\", \"dep_2\", \"dep_3\", \"dep_4\"]\n",
    "value = [[45200, 65190, 10000,33500],\n",
    "         [16000, 11500, 8550, 73200],\n",
    "         [13050, 15000, 22050, 8030]]\n",
    "materiel = [\"Iron\", \"Copper\", \"Aluminum\"]\n",
    "footer = [\"Product\", \"...\", \"...\", \"...\", \"...\"]\n",
    "data = {\"head\" : header,\n",
    "        \"materiel\" : materiel,\n",
    "        \"value\" : value,\n",
    "        \"footer\" : footer\n",
    "        }\n",
    "print (data)"
   ]
  },
  {
   "cell_type": "code",
   "execution_count": 62,
   "metadata": {},
   "outputs": [
    {
     "name": "stdout",
     "output_type": "stream",
     "text": [
      "dep_1    45200\n",
      "dep_2    65190\n",
      "dep_3    22050\n",
      "dep_4    73200\n",
      "dtype: int64\n",
      "Iron        65190\n",
      "Copper      73200\n",
      "Aluminum    22050\n",
      "dtype: int64\n",
      "dep_1    24750.000000\n",
      "dep_2    30563.333333\n",
      "dep_3    13533.333333\n",
      "dep_4    38243.333333\n",
      "dtype: float64\n"
     ]
    }
   ],
   "source": [
    "print (np.max(data, 0))\n",
    "print (np.max(data, 1))\n",
    "print (data.mean())\n",
    "# print (data[:].values)\n"
   ]
  },
  {
   "cell_type": "code",
   "execution_count": 63,
   "metadata": {},
   "outputs": [],
   "source": [
    "def Product( data:pd.DataFrame):\n",
    "    value0 = data.iloc[:, 0].values, data.iloc[:, 1].values, data.iloc[:, 2].values, data.iloc[:, 3].values\n",
    "    product, rest = [], []\n",
    "    for i in value0:\n",
    "        maxProduct0 = np.min(i[0]/10) ;maxProduct1 = np.min(i[1]/5); maxProduct2 = np.min(i[2]/6)\n",
    "        maxProduct = np.min([maxProduct0, maxProduct1, maxProduct2])\n",
    "        product.append(maxProduct)\n",
    "    product = np.array(np.round(product))\n",
    "    k=0\n",
    "    for i in product:\n",
    "        rest1 = value0[k][0];rest2 = value0[k][1];rest3 = value0[k][2]; \n",
    "        for j in range(int (i)):\n",
    "            rest1 = rest1-10; rest2 = rest2-5; rest3 = rest3-6\n",
    "            if rest1 == 0 or rest3 == 0 or rest2 == 0: rest.append([rest1, rest2, rest3]); break;\n",
    "            elif rest1 < 9 or rest3 < 5 or rest2 < 4: rest.append([rest1, rest2, rest3]); break;\n",
    "        k=k+1\n",
    "    rest = np.array(rest);rest = np.transpose(rest)\n",
    "    remining = [rest[0]*3, rest[1]*8, rest[2]*6]\n",
    "    return product, rest, remining\n"
   ]
  },
  {
   "cell_type": "code",
   "execution_count": 64,
   "metadata": {},
   "outputs": [
    {
     "name": "stdout",
     "output_type": "stream",
     "text": [
      "pices = \n",
      "[2175. 2300. 1000. 1338.],\n",
      "rest = \n",
      "[[23450 42190     0 20120]\n",
      " [ 5125     0  3550 66510]\n",
      " [    0  1200 16050     2]],\n",
      "remining = \n",
      "[array([ 70350, 126570,      0,  60360], dtype=int64), array([ 41000,      0,  28400, 532080], dtype=int64), array([    0,  7200, 96300,    12], dtype=int64)],\n",
      "sum remining = \n",
      "[111350 133770 124700 592452],\n",
      "sum = 962272\n"
     ]
    }
   ],
   "source": [
    "pices, rest, remain = Product( data)\n",
    "print(f\"pices = \\n{pices},\\n\"+\n",
    "      f\"rest = \\n{rest},\\n\"+\n",
    "      f\"remining = \\n{remain},\\n\"+\n",
    "      f\"sum remining = \\n{sum(remain)},\\n\"+\n",
    "      f\"sum = {sum(sum(remain))}\")\n"
   ]
  }
 ],
 "metadata": {
  "kernelspec": {
   "display_name": "Python 3",
   "language": "python",
   "name": "python3"
  },
  "language_info": {
   "codemirror_mode": {
    "name": "ipython",
    "version": 3
   },
   "file_extension": ".py",
   "mimetype": "text/x-python",
   "name": "python",
   "nbconvert_exporter": "python",
   "pygments_lexer": "ipython3",
   "version": "3.12.0"
  }
 },
 "nbformat": 4,
 "nbformat_minor": 2
}
