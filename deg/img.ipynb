{
 "cells": [
  {
   "cell_type": "code",
   "execution_count": 1,
   "metadata": {},
   "outputs": [],
   "source": [
    "import cv2\n",
    "import numpy as np"
   ]
  },
  {
   "cell_type": "code",
   "execution_count": 2,
   "metadata": {},
   "outputs": [
    {
     "name": "stdout",
     "output_type": "stream",
     "text": [
      "(711, 1180, 3)\n",
      "hieght = 1180, width = 711\n",
      "brightness is :  94.82\n",
      "contrast is :  75.5\n"
     ]
    }
   ],
   "source": [
    "img = cv2.imread(r'C:\\Users\\khale\\Desktop\\tps\\deg\\130_1180_711_90.jpg', 1) \n",
    "demention = np.shape(img)\n",
    "print (demention)\n",
    "print(\"hieght = {}, width = {}\".format(demention[1],demention[0]))\n",
    "# brightness = np.mean(img[0])*np.mean(img[1])\n",
    "brightness = np.mean([img[0], img[1]])\n",
    "print (\"brightness is : \",np.round(brightness, 2))\n",
    "# contrast = np.var([img[0], img[1]])\n",
    "contrast = np.std(img)\n",
    "print (\"contrast is : \",np.round(contrast, 2))\n",
    "# cv2.imshow('image', img)\n",
    "# cv2.waitKey(0)\n",
    "# cv2.destroyAllWindows()"
   ]
  },
  {
   "cell_type": "code",
   "execution_count": 3,
   "metadata": {},
   "outputs": [
    {
     "name": "stdout",
     "output_type": "stream",
     "text": [
      "img [10][15] for red = 0\n",
      "img [10][15] for green = 74\n",
      "img [10][15] for blue = 98\n",
      "min value of color pecture = 0, and max value of color pecture = 255\n",
      "min value of gray-level pecture = 0, and max value of gray-level pecture = 255\n"
     ]
    }
   ],
   "source": [
    "height, width, channels = img.shape\n",
    "r = img[10, 15, 0];print(f\"img [10][15] for red = {r}\")\n",
    "g = img[10, 15, 1];print(f\"img [10][15] for green = {g}\")\n",
    "b = img[10, 15, 2];print(f\"img [10][15] for blue = {b}\")\n",
    "gray_average = (img[:, :, 0] + img[:, :, 1] + img[:, :, 2])\n",
    "weights = [0.29, 0.58, 0.11]\n",
    "gray_weights = np.zeros((height, width), dtype=np.uint8)\n",
    "gray_weights = (img[:, :, 0] * 0.29 + img[:, :, 1] * 0.58 + img[:, :, 2] * 0.11).astype(np.uint8)\n",
    "print (f\"min value of color pecture = {np.min(img)}, and max value of color pecture = {np.max(img)}\"+\n",
    "       f\"\\nmin value of gray-level pecture = {np.min(img)}, and max value of gray-level pecture = {np.max(img)}\")\n",
    "# cv2.imshow('image gray-average', gray_average)\n",
    "# cv2.imshow('image gray-weights', gray_weights)\n",
    "# cv2.waitKey(0)\n",
    "# cv2.destroyAllWindows()"
   ]
  },
  {
   "cell_type": "code",
   "execution_count": 4,
   "metadata": {},
   "outputs": [],
   "source": [
    "red_chanal = np.zeros((height, width, 3), dtype=np.uint8)\n",
    "green_chanal = np.zeros((height, width, 3), dtype=np.uint8)\n",
    "blue_chanal = np.zeros((height, width, 3), dtype=np.uint8)\n",
    "red_chanal[:, :, 0] = img[:, :, 0]\n",
    "green_chanal[:, :, 1] = img[:, :, 1]\n",
    "blue_chanal[:, :, 2] = img[:, :, 2]\n",
    "# cv2.imshow('Original Image', img)\n",
    "# cv2.imshow('Blue Channel', blue_chanal)\n",
    "# cv2.imshow('Green Channel', green_chanal)\n",
    "# cv2.imshow('Red Channel', red_chanal)\n",
    "# cv2.waitKey(0)\n",
    "# cv2.destroyAllWindows()\n"
   ]
  },
  {
   "cell_type": "code",
   "execution_count": 5,
   "metadata": {},
   "outputs": [
    {
     "name": "stdout",
     "output_type": "stream",
     "text": [
      "the size of pecture gray-level is : 0.8 Mb\n",
      "the size of pecture  is : 2.4 Mb\n"
     ]
    }
   ],
   "source": [
    "def sizeByMb (hight, width, isColored):\n",
    "    if isColored == True:\n",
    "        return round((hight*width*3)/(1024**2), 2)\n",
    "    else: return round((hight*width)/(1024**2), 2)\n",
    "print (f\"the size of pecture gray-level is : {sizeByMb(demention[1], demention[0], 0)} Mb\"+\n",
    "       f\"\\nthe size of pecture  is : {sizeByMb(demention[1], demention[0], 1)} Mb\")"
   ]
  },
  {
   "cell_type": "code",
   "execution_count": 6,
   "metadata": {},
   "outputs": [],
   "source": [
    "subImg = img[50:71, 20:91]\n",
    "subgImg = gray_weights[50:71, 20:91]\n",
    "# cv2.imshow('image', subImg)\n",
    "# cv2.imshow('image gray', subgImg)\n",
    "# cv2.waitKey(0)\n",
    "# cv2.destroyAllWindows()"
   ]
  },
  {
   "cell_type": "code",
   "execution_count": 7,
   "metadata": {},
   "outputs": [],
   "source": [
    "height, width, channels = img.shape\n",
    "quantized_128_levels = np.floor_divide(gray_weights, 256 // 128) * (256 // 128)\n",
    "quantized_64_levels = np.floor_divide(gray_weights, 256 // 64) * (256 // 64)\n",
    "quantized_32_levels = np.floor_divide(gray_weights, 256 // 32) * (256 // 32)\n",
    "# cv2.imshow('Original Image', img)\n",
    "# cv2.imshow('Quantized to 128 Levels', quantized_128_levels)\n",
    "# cv2.imshow('Quantized to 64 Levels', quantized_64_levels)\n",
    "# cv2.imshow('Quantized to 32 Levels', quantized_32_levels)\n",
    "# cv2.waitKey(0)\n",
    "# cv2.destroyAllWindows()"
   ]
  },
  {
   "cell_type": "code",
   "execution_count": 8,
   "metadata": {},
   "outputs": [],
   "source": [
    "# Convert RGB to HSV\n",
    "hsv_img = cv2.cvtColor(img, cv2.COLOR_BGR2HSV)\n",
    "\n",
    "# Convert RGB to CMYK\n",
    "cmyk_img = 255 - img\n",
    "# way2\n",
    "CMYK = np.zeros((height, width, channels+1), dtype=np.uint8)\n",
    "r = img[:, :, 0]/255; g = img[:, :, 1]/255; b = img[:, :, 2]/255; \n",
    "# max_rgb = np.maximum.reduce([r, g, b])\n",
    "# CMYK[:, :, 3] = (1 - max_rgb * 255).astype(np.uint8)\n",
    "# CMYK[:, :, 2] = (1-r-CMYK[:, :, 3])/(1-CMYK[:, :, 3]).astype(np.uint8)\n",
    "# CMYK[:, :, 1] = (1-g-CMYK[:, :, 3])/(1-CMYK[:, :, 3]).astype(np.uint8)\n",
    "# CMYK[:, :, 0] = (1-b-CMYK[:, :, 3])/(1-CMYK[:, :, 3]).astype(np.uint8)\n",
    "# way3\n",
    "# c = 1 - r\n",
    "# m = 1 - g\n",
    "# y = 1 - b\n",
    "# min_cmy = np.minimum.reduce([c, m, y])\n",
    "# non_zero_mask = (1 - min_cmy) != 0\n",
    "# CMYK[:, :, 0] = np.where(non_zero_mask, (c - min_cmy) / (1 - min_cmy), 0)\n",
    "# CMYK[:, :, 1] = np.where(non_zero_mask, (m - min_cmy) / (1 - min_cmy), 0)\n",
    "# CMYK[:, :, 2] = np.where(non_zero_mask, (y - min_cmy) / (1 - min_cmy), 0)\n",
    "# CMYK[:, :, 3] = min_cmy\n",
    "\n",
    "# Convert RGB to YCbCr\n",
    "YCbCr = np.zeros((height, width, channels), dtype=np.uint8)\n",
    "# way 2\n",
    "ycbcr_img = cv2.cvtColor(img, cv2.COLOR_BGR2YCrCb)\n",
    "YCbCr[:, :, 0] = (img[:, :, 0] * 0.299 + img[:, :, 1] * 0.587 + img[:, :, 2] * 0.114).astype(np.uint8)\n",
    "YCbCr[:, :, 1] = (0.564 * (img[:, :, 2] - YCbCr[:, :, 0]) + 128).astype(np.uint8)\n",
    "YCbCr[:, :, 2] = (0.713 * (img[:, :, 0] - YCbCr[:, :, 0]) + 128).astype(np.uint8)\n",
    "\n",
    "# Display the original and converted images\n",
    "# cv2.imshow('Original Image', img)\n",
    "# cv2.imshow('HSV Image', hsv_img)\n",
    "# cv2.imshow('CMYK Image', cmyk_img)\n",
    "# cv2.imshow('CMYK2 Image', CMYK)\n",
    "# cv2.imshow('YCbCr1 Image', ycbcr_img)\n",
    "# cv2.imshow('YCbCr2 Image', YCbCr)\n",
    "\n",
    "# cv2.waitKey(0)\n",
    "# cv2.destroyAllWindows()"
   ]
  },
  {
   "cell_type": "code",
   "execution_count": 9,
   "metadata": {},
   "outputs": [],
   "source": [
    "value = [10, 50, 125, 255]\n",
    "binarized_10 = np.ones_like(gray_average);binarized_50 = np.ones_like(gray_average);\n",
    "binarized_125 = np.ones_like(gray_average);binarized_255 = np.ones_like(gray_average)\n",
    "binarized_10 = np.where( gray_weights<=10, 0, binarized_10);binarized_10 = np.where( gray_weights>10, 255, binarized_10)\n",
    "binarized_50 = np.where( gray_weights<=50, 0, binarized_50);binarized_50 = np.where( gray_weights>50, 255, binarized_50)\n",
    "binarized_125 = np.where( gray_weights<=125, 0, binarized_125);binarized_125 = np.where( gray_weights>125, 255, binarized_125)\n",
    "binarized_255 = np.where( gray_weights<=255, 0, binarized_255);binarized_255 = np.where( gray_weights>255, 255, binarized_255)\n",
    "list_pecture = [binarized_10 ,binarized_50 ,binarized_125 ,binarized_255 ]\n",
    "# for i, value in enumerate(list_pecture):\n",
    "#     cv2.imshow('Original Image', gray_weights)\n",
    "#     cv2.imshow('Binarized (Threshold 10)', binarized_10)\n",
    "#     cv2.imshow('Binarized (Threshold 50)', binarized_50)\n",
    "#     cv2.imshow('Binarized (Threshold 125)', binarized_125)\n",
    "#     cv2.imshow('Binarized (Threshold 255)', binarized_255)\n",
    "# cv2.waitKey(0)\n",
    "# cv2.destroyAllWindows()"
   ]
  },
  {
   "cell_type": "code",
   "execution_count": 10,
   "metadata": {},
   "outputs": [],
   "source": [
    "binarized_10 = 255 - binarized_10\n",
    "binarized_50 = 255 - binarized_50\n",
    "binarized_125 = 255 - binarized_125\n",
    "binarized_255 = 255 - binarized_255\n",
    "list_pecture = [binarized_10 ,binarized_50 ,binarized_125 ,binarized_255 ]\n",
    "# for i, value in enumerate(list_pecture):\n",
    "#     cv2.imshow('Original Image', gray_weights)\n",
    "#     cv2.imshow('Binarized (Threshold 10)', binarized_10)\n",
    "#     cv2.imshow('Binarized (Threshold 50)', binarized_50)\n",
    "#     cv2.imshow('Binarized (Threshold 125)', binarized_125)\n",
    "#     cv2.imshow('Binarized (Threshold 255)', binarized_255)\n",
    "# cv2.waitKey(0)\n",
    "# cv2.destroyAllWindows()"
   ]
  },
  {
   "cell_type": "code",
   "execution_count": 11,
   "metadata": {},
   "outputs": [],
   "source": [
    "values_to_add = [10, 30, 60, 200]\n",
    "added_images, subtracted_images = [], []\n",
    "for value in values_to_add:\n",
    "    add = value*np.ones_like(gray_weights)\n",
    "    # added_image = cv2.add(gray_weights, value);added_images.append(added_image)\n",
    "    # added_image = np.add(gray_weights, value)\n",
    "    added_image = np.clip(gray_weights + value, 0, 255).astype(np.uint8);added_images.append(added_image)\n",
    "\n",
    "    # subtracted_image = cv2.subtract(gray_weights, value);subtracted_images.append(subtracted_image)\n",
    "    # subtracted_image = gray_weights- value\n",
    "    subtracted_image = np.clip(gray_weights - value, 0, 255).astype(np.uint8);\n",
    "    subtracted_images.append(subtracted_image)\n",
    "# cv2.imshow('Original Image', gray_weights)\n",
    "# for i, value in enumerate(values_to_add):\n",
    "#     cv2.imshow(f'Added {value}', added_images[i])\n",
    "#     cv2.imshow(f'Subtracted {value}', subtracted_images[i])\n",
    "# cv2.waitKey(0)\n",
    "# cv2.destroyAllWindows()"
   ]
  },
  {
   "cell_type": "code",
   "execution_count": 12,
   "metadata": {},
   "outputs": [],
   "source": [
    "# increase_brightnees2 = np.ones_like(gray_weights, dtype = np.uint8)\n",
    "# increase_brightnees2 = np.ones_like(gray_weights)\n",
    "# increase_brightnees2 = np.ones_like(gray_weights, dtype = np.uint8)\n",
    "# decrease_brightnees2 = np.ones_like(gray_weights)\n",
    "# for i in range (len (gray_weights)):\n",
    "#     for j in range (len (gray_weights[0])):\n",
    "#         increase_brightnees2[i, j] = gray_weights[i, j]* 1.7\n",
    "increase_brightnees = cv2.multiply(gray_weights, 1.7)\n",
    "decrease_brightnees = cv2.multiply(gray_weights, 0.6)\n",
    "increase_brightnees2 = np.clip(gray_weights * 1.7, 0, 255).astype(np.uint8)\n",
    "decrease_brightnees2 = np.clip(gray_weights * 0.6, 0, 255).astype(np.uint8)\n",
    "# cv2.imshow('increase brightnees \"1.7\" ', increase_brightnees)\n",
    "# cv2.imshow('increase brightnees by mul \"1.7\" ', increase_brightnees2)\n",
    "# cv2.imshow('decrease brightnees \"0.6\" ', decrease_brightnees)\n",
    "# cv2.imshow('decrease brightnees by mul \"0.6\" ', decrease_brightnees2)\n",
    "# cv2.waitKey(0)\n",
    "# cv2.destroyAllWindows()\n"
   ]
  },
  {
   "cell_type": "code",
   "execution_count": 13,
   "metadata": {},
   "outputs": [],
   "source": [
    "increase_brightnees2 = np.clip(gray_weights / 0.5, 0, 255).astype(np.uint8)\n",
    "decrease_brightnees2 = np.clip(gray_weights /2, 0, 255).astype(np.uint8)\n",
    "# decrease_brightnees = cv2.divide(gray_weights, 2)\n",
    "# increase_brightnees = cv2.divide(gray_weights, 0.5)\n",
    "# cv2.imshow('increase brightnees by divide \"0.5\"', increase_brightnees)\n",
    "# cv2.imshow('decrease brightnees by divide \"2\"', decrease_brightnees)\n",
    "# cv2.waitKey(0)\n",
    "# cv2.destroyAllWindows()"
   ]
  },
  {
   "cell_type": "code",
   "execution_count": 2,
   "metadata": {},
   "outputs": [
    {
     "name": "stdout",
     "output_type": "stream",
     "text": [
      "min value of color pecture = 0, and max value of color pecture = 255\n",
      "min value of gray-level pecture = 0, and max value of gray-level pecture = 255\n"
     ]
    }
   ],
   "source": [
    "img2 = cv2.imread(r'C:\\Users\\khale\\Desktop\\tps\\deg\\Yosemite National Park .jpg', 1) \n",
    "img3 = cv2.imread(r'C:\\Users\\khale\\Desktop\\tps\\deg\\Lighting Storm.jpg', 1) \n",
    "print (f\"min value of color pecture = {np.min(img2)}, and max value of color pecture = {np.max(img2)}\"+\n",
    "       f\"\\nmin value of gray-level pecture = {np.min(img3)}, and max value of gray-level pecture = {np.max(img3)}\")\n",
    "# cv2.imshow('image2', img2)\n",
    "# cv2.imshow('image3', img3)\n",
    "# cv2.waitKey(0)\n",
    "# cv2.destroyAllWindows()\n"
   ]
  },
  {
   "cell_type": "code",
   "execution_count": 5,
   "metadata": {},
   "outputs": [],
   "source": [
    "partOne = np.clip(img2 * 0.1, 0, 255).astype(np.uint8)\n",
    "partTwo = np.clip(img3 * 0.9, 0, 255).astype(np.uint8)\n",
    "combineImg = np.ones_like(img2)\n",
    "# combineImg = np.where(partTwo>partOne, img3, combineImg)\n",
    "# combineImg = np.where(partTwo<partOne, img2, combineImg)\n",
    "combineImg = np.clip(img2 * 0.1, 0, 255).astype(np.uint8) + np.clip(img3 * 0.9, 0, 255).astype(np.uint8)\n",
    "# cv2.imshow('combineImg', combineImg)\n",
    "# cv2.waitKey(0)\n",
    "# cv2.destroyAllWindows()"
   ]
  },
  {
   "cell_type": "code",
   "execution_count": 6,
   "metadata": {},
   "outputs": [],
   "source": [
    "partOne = np.clip(img2 * 0.5, 0, 255).astype(np.uint8)\n",
    "partTwo = np.clip(img3 * 0.5, 0, 255).astype(np.uint8)\n",
    "combineImg = np.ones_like(img2)\n",
    "# combineImg = np.where(partTwo>partOne, img3, combineImg)\n",
    "# combineImg = np.where(partTwo<partOne, img2, combineImg)\n",
    "combineImg = np.clip(img2 * 0.5, 0, 255).astype(np.uint8) + np.clip(img3 * 0.5, 0, 255).astype(np.uint8)\n",
    "cv2.imshow('combineImg', combineImg)\n",
    "cv2.waitKey(0)\n",
    "cv2.destroyAllWindows()"
   ]
  },
  {
   "cell_type": "code",
   "execution_count": 7,
   "metadata": {},
   "outputs": [],
   "source": [
    "partOne = np.clip(img2 * 0.9, 0, 255).astype(np.uint8)\n",
    "partTwo = np.clip(img3 * 0.1, 0, 255).astype(np.uint8)\n",
    "combineImg = np.ones_like(img2)\n",
    "# combineImg = np.where(partTwo>partOne, img3, combineImg)\n",
    "# combineImg = np.where(partTwo<partOne, img2, combineImg)\n",
    "combineImg = np.clip(img2 * 0.9, 0, 255).astype(np.uint8) + np.clip(img3 * 0.1, 0, 255).astype(np.uint8)\n",
    "\n",
    "# cv2.imshow('combineImg', combineImg)\n",
    "# cv2.waitKey(0)\n",
    "# cv2.destroyAllWindows()"
   ]
  },
  {
   "cell_type": "code",
   "execution_count": 38,
   "metadata": {},
   "outputs": [],
   "source": [
    "import numpy as np\n",
    "import matplotlib.pyplot as plt\n",
    "\n",
    "square1 = np.zeros((10, 10));square1[3:7, 3:7] = 1\n",
    "square2 = np.zeros((10, 10));square2[5:9, 5:9] = 1 \n",
    "# plt.subplot(1, 3, 1);plt.imshow(square1, cmap='Blues', interpolation='none');plt.title('Square 1');plt.xticks([]);plt.yticks([])\n",
    "# plt.subplot(1, 3, 2);plt.imshow(square2, cmap='Reds', interpolation='none');plt.title('Square 2');plt.xticks([]);plt.yticks([])\n",
    "# plt.show()\n"
   ]
  },
  {
   "cell_type": "code",
   "execution_count": 41,
   "metadata": {},
   "outputs": [
    {
     "data": {
      "image/png": "[encoded data removed]",
      "text/plain": [
       "<Figure size 1600x900 with 4 Axes>"
      ]
     },
     "metadata": {},
     "output_type": "display_data"
    }
   ],
   "source": [
    "fig = plt.figure(figsize=[16,9])\n",
    "orImg = np.logical_or(square1, square2)\n",
    "orImg = (square1.astype(int) | square2.astype(int)).astype(bool)\n",
    "plt.subplot(1, 4, 1);plt.imshow(orImg, cmap='Blues', interpolation='none');plt.title('OR logic operator');plt.xticks([]);plt.yticks([])\n",
    "andImg = np.logical_and(square1, square2)\n",
    "andImg = (square1.astype(int) & square2.astype(int)).astype(bool)\n",
    "plt.subplot(1, 4, 2);plt.imshow(andImg, cmap='Blues', interpolation='none');plt.title('AND logic operator');plt.xticks([]);plt.yticks([])\n",
    "XorImg = np.logical_xor(square1, square2)\n",
    "XorImg = (square1.astype(bool) ^ square2.astype(bool)).astype(int)\n",
    "plt.subplot(1, 4, 3);plt.imshow(XorImg, cmap='Blues', interpolation='none');plt.title('XOR logic operator');plt.xticks([]);plt.yticks([])\n",
    "NorImg = ~(square1.astype(bool) | square2.astype(bool)).astype(int)\n",
    "plt.subplot(1, 4, 4);plt.imshow(NorImg, cmap='Blues', interpolation='none');plt.title('NOR logic operator');plt.xticks([]);plt.yticks([])\n",
    "plt.show()"
   ]
  },
  {
   "cell_type": "code",
   "execution_count": 67,
   "metadata": {},
   "outputs": [
    {
     "data": {
      "image/png": "[encoded data removed]",
      "text/plain": [
       "<Figure size 1600x900 with 3 Axes>"
      ]
     },
     "metadata": {},
     "output_type": "display_data"
    }
   ],
   "source": [
    "fig = plt.figure(figsize=[16,9])\n",
    "Triangle = np.zeros((1000, 1000));\n",
    "Rectangle1 = np.zeros((1000, 1000));Rectangle1[100:900, 400:600] = 1 \n",
    "Rectangle2 = np.zeros((1000, 1000));Rectangle2[300:700, 200:800] = 1 \n",
    "for i in range (len(Triangle)):\n",
    "    for j in range (i, len(Triangle[0])):\n",
    "       Triangle[i, j] = 1 \n",
    "plt.subplot(1, 3, 1);plt.imshow(Triangle, cmap='Reds', interpolation='none');plt.title('Triangle');plt.xticks([]);plt.yticks([])\n",
    "plt.subplot(1, 3, 2);plt.imshow(Rectangle1, cmap='Blues', interpolation='none');plt.title('Rectangle');plt.xticks([]);plt.yticks([])\n",
    "plt.subplot(1, 3, 3);plt.imshow(Rectangle2, cmap='Greens', interpolation='none');plt.title('Rectangle');plt.xticks([]);plt.yticks([])\n",
    "plt.show()"
   ]
  }
 ],
 "metadata": {
  "kernelspec": {
   "display_name": "Python 3",
   "language": "python",
   "name": "python3"
  },
  "language_info": {
   "codemirror_mode": {
    "name": "ipython",
    "version": 3
   },
   "file_extension": ".py",
   "mimetype": "text/x-python",
   "name": "python",
   "nbconvert_exporter": "python",
   "pygments_lexer": "ipython3",
   "version": "3.12.0"
  }
 },
 "nbformat": 4,
 "nbformat_minor": 2
}
