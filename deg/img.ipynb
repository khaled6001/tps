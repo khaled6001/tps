{
 "cells": [
  {
   "cell_type": "code",
   "execution_count": 8,
   "metadata": {},
   "outputs": [],
   "source": [
    "import cv2\n",
    "import numpy as np"
   ]
  },
  {
   "cell_type": "code",
   "execution_count": 32,
   "metadata": {},
   "outputs": [
    {
     "name": "stdout",
     "output_type": "stream",
     "text": [
      "(711, 1180, 3)\n",
      "hieght = 1180, width = 711\n",
      "brightness is :  94.82\n",
      "contrast is :  5699.98\n"
     ]
    }
   ],
   "source": [
    "img = cv2.imread(r'C:\\Users\\khale\\Desktop\\tps\\deg\\130_1180_711_90.jpg', 1) \n",
    "demention = np.shape(img)\n",
    "print (demention)\n",
    "print(\"hieght = {}, width = {}\".format(demention[1],demention[0]))\n",
    "# brightness = np.mean(img[0])*np.mean(img[1])\n",
    "brightness = np.mean([img[0], img[1]])\n",
    "print (\"brightness is : \",np.round(brightness, 2))\n",
    "# contrast = np.var([img[0], img[1]])\n",
    "contrast = np.var(img)\n",
    "print (\"contrast is : \",np.round(contrast, 2))\n",
    "# cv2.imshow('Image', img)\n",
    "# cv2.waitKey(0)\n",
    "# cv2.destroyAllWindows()"
   ]
  },
  {
   "cell_type": "code",
   "execution_count": 16,
   "metadata": {},
   "outputs": [
    {
     "name": "stdout",
     "output_type": "stream",
     "text": [
      "img [10][15] for red = 0\n",
      "img [10][15] for green = 74\n",
      "img [10][15] for blue = 98\n",
      "min value of color pecture = 0, and max value of color pecture = 255\n",
      "min value of gray-level pecture = 0, and max value of gray-level pecture = 255\n",
      "size of color pecture = 2.4 Mb\n",
      "size of gray-level pecture = 0.8 Mb\n"
     ]
    }
   ],
   "source": [
    "height, width, channels = img.shape\n",
    "gray_picture = np.zeros((height, width, channels), dtype=np.uint8)\n",
    "r = img[10][15][0];print(f\"img [10][15] for red = {r}\")\n",
    "g = img[10][15][1];print(f\"img [10][15] for green = {g}\")\n",
    "b = img[10][15][2];print(f\"img [10][15] for blue = {b}\")\n",
    "for i in range (img.shape[0]):\n",
    "    for j in  range( img.shape[1]):\n",
    "        gray_picture[i][j][0] = img[i, j, 0]*0.29\n",
    "        gray_picture[i][j][1] = img[i, j, 1]*0.58\n",
    "        gray_picture[i][j][2] = img[i, j, 2]*0.11\n",
    "print (f\"min value of color pecture = {np.min(img)}, and max value of color pecture = {np.max(img)}\")\n",
    "print (f\"min value of gray-level pecture = {np.min(img)}, and max value of gray-level pecture = {np.max(img)}\")\n"
   ]
  },
  {
   "cell_type": "code",
   "execution_count": 18,
   "metadata": {},
   "outputs": [
    {
     "name": "stdout",
     "output_type": "stream",
     "text": [
      "0.8 Mb\n",
      "2.4 Mb\n"
     ]
    }
   ],
   "source": [
    "# resulotionCimg = (f\"size of color pecture = {round((demention[1]*demention[0]*3)/(1024**2), 2)}\")\n",
    "# resulotionImg = (f\"size of gray-level pecture = {round((demention[1]*demention[0])/(1024**2), 2)}\")\n",
    "# print (f\"{resulotionCimg} Mb\")\n",
    "# print (f\"{resulotionImg} Mb\")\n",
    "def sizeByMb (hight, width, isColored):\n",
    "    if isColored == True:\n",
    "        return round((hight*width*3)/(1024**2), 2)\n",
    "    else: return round((hight*width)/(1024**2), 2)\n",
    "print (f\"{sizeByMb(demention[1], demention[0], 0)} Mb\")\n",
    "print (f\"{sizeByMb(demention[1], demention[0], 1)} Mb\")"
   ]
  },
  {
   "cell_type": "code",
   "execution_count": 42,
   "metadata": {},
   "outputs": [],
   "source": [
    "subImg = img[50:71][20:91][:]\n",
    "# subgImg = gI[50:71][20:91]\n",
    "cv2.imshow('image', subImg)\n",
    "cv2.waitKey(0)\n",
    "cv2.destroyAllWindows()"
   ]
  }
 ],
 "metadata": {
  "kernelspec": {
   "display_name": "Python 3",
   "language": "python",
   "name": "python3"
  },
  "language_info": {
   "codemirror_mode": {
    "name": "ipython",
    "version": 3
   },
   "file_extension": ".py",
   "mimetype": "text/x-python",
   "name": "python",
   "nbconvert_exporter": "python",
   "pygments_lexer": "ipython3",
   "version": "3.12.0"
  }
 },
 "nbformat": 4,
 "nbformat_minor": 2
}
